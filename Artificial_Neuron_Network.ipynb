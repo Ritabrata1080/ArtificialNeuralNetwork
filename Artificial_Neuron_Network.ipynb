{
 "cells": [
  {
   "cell_type": "markdown",
   "id": "991eabdb",
   "metadata": {},
   "source": [
    "# Importing the Libraries"
   ]
  },
  {
   "cell_type": "code",
   "execution_count": 1,
   "id": "5e68e4ea",
   "metadata": {},
   "outputs": [],
   "source": [
    "import pandas as pd\n",
    "import tensorflow as tf\n",
    "import numpy as np"
   ]
  },
  {
   "cell_type": "code",
   "execution_count": 2,
   "id": "cb3a9e32",
   "metadata": {},
   "outputs": [
    {
     "data": {
      "text/plain": [
       "'2.0.0'"
      ]
     },
     "execution_count": 2,
     "metadata": {},
     "output_type": "execute_result"
    }
   ],
   "source": [
    "tf.__version__"
   ]
  },
  {
   "cell_type": "markdown",
   "id": "8c09bcc3",
   "metadata": {},
   "source": [
    "# Part-1--> Data Preprocessing"
   ]
  },
  {
   "cell_type": "markdown",
   "id": "a73c2e07",
   "metadata": {},
   "source": [
    "# Importing the dataset "
   ]
  },
  {
   "cell_type": "code",
   "execution_count": 3,
   "id": "23401c16",
   "metadata": {},
   "outputs": [],
   "source": [
    "dataset = pd.read_csv('Churn_Modelling.csv')\n",
    "x = dataset.iloc[:,3:-1].values\n",
    "y = dataset.iloc[:, -1].values"
   ]
  },
  {
   "cell_type": "code",
   "execution_count": 4,
   "id": "7d1159ab",
   "metadata": {},
   "outputs": [
    {
     "name": "stdout",
     "output_type": "stream",
     "text": [
      "[[619 'France' 'Female' ... 1 1 101348.88]\n",
      " [608 'Spain' 'Female' ... 0 1 112542.58]\n",
      " [502 'France' 'Female' ... 1 0 113931.57]\n",
      " ...\n",
      " [709 'France' 'Female' ... 0 1 42085.58]\n",
      " [772 'Germany' 'Male' ... 1 0 92888.52]\n",
      " [792 'France' 'Female' ... 1 0 38190.78]]\n"
     ]
    }
   ],
   "source": [
    "print(x)"
   ]
  },
  {
   "cell_type": "code",
   "execution_count": 5,
   "id": "fb4af330",
   "metadata": {},
   "outputs": [
    {
     "name": "stdout",
     "output_type": "stream",
     "text": [
      "[1 0 1 ... 1 1 0]\n"
     ]
    }
   ],
   "source": [
    "print(y)"
   ]
  },
  {
   "cell_type": "markdown",
   "id": "8cc98189",
   "metadata": {},
   "source": [
    "# Encoding the Categorical Data"
   ]
  },
  {
   "cell_type": "markdown",
   "id": "d0298d28",
   "metadata": {},
   "source": [
    "# Label Encoding the Gender Column"
   ]
  },
  {
   "cell_type": "code",
   "execution_count": 6,
   "id": "19469578",
   "metadata": {},
   "outputs": [],
   "source": [
    "from sklearn.preprocessing import LabelEncoder\n",
    "le = LabelEncoder()\n",
    "x[:, 2] = le.fit_transform(x[:,2])"
   ]
  },
  {
   "cell_type": "code",
   "execution_count": 7,
   "id": "34f4e298",
   "metadata": {},
   "outputs": [
    {
     "name": "stdout",
     "output_type": "stream",
     "text": [
      "[[619 'France' 0 ... 1 1 101348.88]\n",
      " [608 'Spain' 0 ... 0 1 112542.58]\n",
      " [502 'France' 0 ... 1 0 113931.57]\n",
      " ...\n",
      " [709 'France' 0 ... 0 1 42085.58]\n",
      " [772 'Germany' 1 ... 1 0 92888.52]\n",
      " [792 'France' 0 ... 1 0 38190.78]]\n"
     ]
    }
   ],
   "source": [
    "print(x)"
   ]
  },
  {
   "cell_type": "markdown",
   "id": "a58c9b16",
   "metadata": {},
   "source": [
    "# One Hot Encoding the \"Geography\" Column "
   ]
  },
  {
   "cell_type": "code",
   "execution_count": 8,
   "id": "693a3050",
   "metadata": {},
   "outputs": [],
   "source": [
    "from sklearn.preprocessing import OneHotEncoder\n",
    "from sklearn.compose import ColumnTransformer\n",
    "ct = ColumnTransformer(transformers=[('encoder', OneHotEncoder(), [1])], remainder = 'passthrough')\n",
    "x=np.array(ct.fit_transform(x))"
   ]
  },
  {
   "cell_type": "code",
   "execution_count": 9,
   "id": "989904e3",
   "metadata": {},
   "outputs": [
    {
     "name": "stdout",
     "output_type": "stream",
     "text": [
      "[[1.0 0.0 0.0 ... 1 1 101348.88]\n",
      " [0.0 0.0 1.0 ... 0 1 112542.58]\n",
      " [1.0 0.0 0.0 ... 1 0 113931.57]\n",
      " ...\n",
      " [1.0 0.0 0.0 ... 0 1 42085.58]\n",
      " [0.0 1.0 0.0 ... 1 0 92888.52]\n",
      " [1.0 0.0 0.0 ... 1 0 38190.78]]\n"
     ]
    }
   ],
   "source": [
    "print(x)"
   ]
  },
  {
   "cell_type": "markdown",
   "id": "57cc48ca",
   "metadata": {},
   "source": [
    "# Splitting the Dataset into train set and test set "
   ]
  },
  {
   "cell_type": "code",
   "execution_count": 10,
   "id": "9071a903",
   "metadata": {},
   "outputs": [],
   "source": [
    "from sklearn.model_selection import train_test_split\n",
    "x_train, x_test, y_train, y_test = train_test_split(x, y, test_size = 0.2, random_state = 0)"
   ]
  },
  {
   "cell_type": "markdown",
   "id": "81df1663",
   "metadata": {},
   "source": [
    "# Feature Scaling"
   ]
  },
  {
   "cell_type": "code",
   "execution_count": 11,
   "id": "3c305608",
   "metadata": {},
   "outputs": [],
   "source": [
    "from sklearn.preprocessing import StandardScaler\n",
    "sc = StandardScaler()\n",
    "x_train = sc.fit_transform(x_train)\n",
    "x_test = sc.fit_transform(x_test)"
   ]
  },
  {
   "cell_type": "markdown",
   "id": "e36acd33",
   "metadata": {},
   "source": [
    "# Part-2--> Building the ANN"
   ]
  },
  {
   "cell_type": "markdown",
   "id": "23b1778f",
   "metadata": {},
   "source": [
    "# Initializing the ANN"
   ]
  },
  {
   "cell_type": "code",
   "execution_count": 12,
   "id": "b3db3388",
   "metadata": {},
   "outputs": [],
   "source": [
    "ann = tf.keras.models.Sequential()"
   ]
  },
  {
   "cell_type": "markdown",
   "id": "bb5ff001",
   "metadata": {},
   "source": [
    "# Adding the Input Layer and first Hidden Layer"
   ]
  },
  {
   "cell_type": "code",
   "execution_count": 13,
   "id": "fd11dd55",
   "metadata": {},
   "outputs": [],
   "source": [
    "ann.add(tf.keras.layers.Dense(units=6, activation='relu')) # relu is the name for rectifier function"
   ]
  },
  {
   "cell_type": "markdown",
   "id": "2a6f6cd9",
   "metadata": {},
   "source": [
    "# Adding the Second Hidden Layer"
   ]
  },
  {
   "cell_type": "code",
   "execution_count": 14,
   "id": "a176fe44",
   "metadata": {},
   "outputs": [],
   "source": [
    "ann.add(tf.keras.layers.Dense(units=6, activation='relu'))"
   ]
  },
  {
   "cell_type": "markdown",
   "id": "5450048e",
   "metadata": {},
   "source": [
    "# Adding the Output layer"
   ]
  },
  {
   "cell_type": "code",
   "execution_count": 15,
   "id": "b1e52ecc",
   "metadata": {},
   "outputs": [],
   "source": [
    "ann.add(tf.keras.layers.Dense(units=1, activation='sigmoid'))"
   ]
  },
  {
   "cell_type": "markdown",
   "id": "24cb72e6",
   "metadata": {},
   "source": [
    "# Part 3--> Training the ANN "
   ]
  },
  {
   "cell_type": "markdown",
   "id": "b0957089",
   "metadata": {},
   "source": [
    "# Compiling the ANN"
   ]
  },
  {
   "cell_type": "code",
   "execution_count": 16,
   "id": "aa176c4e",
   "metadata": {},
   "outputs": [],
   "source": [
    "ann.compile(optimizer='adam', loss='binary_crossentropy', metrics=['accuracy'])"
   ]
  },
  {
   "cell_type": "markdown",
   "id": "895c7d08",
   "metadata": {},
   "source": [
    "# Training the ANN on the Training set "
   ]
  },
  {
   "cell_type": "code",
   "execution_count": 17,
   "id": "9da81f18",
   "metadata": {},
   "outputs": [
    {
     "name": "stdout",
     "output_type": "stream",
     "text": [
      "Train on 8000 samples\n",
      "Epoch 1/100\n",
      "8000/8000 [==============================] - 1s 93us/sample - loss: 0.5618 - accuracy: 0.7554\n",
      "Epoch 2/100\n",
      "8000/8000 [==============================] - 0s 27us/sample - loss: 0.4639 - accuracy: 0.7954\n",
      "Epoch 3/100\n",
      "8000/8000 [==============================] - 0s 27us/sample - loss: 0.4395 - accuracy: 0.7996\n",
      "Epoch 4/100\n",
      "8000/8000 [==============================] - 0s 27us/sample - loss: 0.4284 - accuracy: 0.8092\n",
      "Epoch 5/100\n",
      "8000/8000 [==============================] - 0s 27us/sample - loss: 0.4195 - accuracy: 0.8149\n",
      "Epoch 6/100\n",
      "8000/8000 [==============================] - 0s 27us/sample - loss: 0.4108 - accuracy: 0.8229\n",
      "Epoch 7/100\n",
      "8000/8000 [==============================] - 0s 27us/sample - loss: 0.3993 - accuracy: 0.8296\n",
      "Epoch 8/100\n",
      "8000/8000 [==============================] - 0s 27us/sample - loss: 0.3870 - accuracy: 0.8344\n",
      "Epoch 9/100\n",
      "8000/8000 [==============================] - 0s 27us/sample - loss: 0.3789 - accuracy: 0.8372\n",
      "Epoch 10/100\n",
      "8000/8000 [==============================] - 0s 27us/sample - loss: 0.3732 - accuracy: 0.8380\n",
      "Epoch 11/100\n",
      "8000/8000 [==============================] - 0s 27us/sample - loss: 0.3693 - accuracy: 0.8393\n",
      "Epoch 12/100\n",
      "8000/8000 [==============================] - 0s 27us/sample - loss: 0.3661 - accuracy: 0.8407\n",
      "Epoch 13/100\n",
      "8000/8000 [==============================] - 0s 27us/sample - loss: 0.3642 - accuracy: 0.8428\n",
      "Epoch 14/100\n",
      "8000/8000 [==============================] - 0s 27us/sample - loss: 0.3618 - accuracy: 0.8453\n",
      "Epoch 15/100\n",
      "8000/8000 [==============================] - 0s 27us/sample - loss: 0.3597 - accuracy: 0.8459\n",
      "Epoch 16/100\n",
      "8000/8000 [==============================] - 0s 27us/sample - loss: 0.3579 - accuracy: 0.8474\n",
      "Epoch 17/100\n",
      "8000/8000 [==============================] - 0s 27us/sample - loss: 0.3557 - accuracy: 0.8476\n",
      "Epoch 18/100\n",
      "8000/8000 [==============================] - 0s 28us/sample - loss: 0.3537 - accuracy: 0.8510\n",
      "Epoch 19/100\n",
      "8000/8000 [==============================] - 0s 27us/sample - loss: 0.3522 - accuracy: 0.8506\n",
      "Epoch 20/100\n",
      "8000/8000 [==============================] - 0s 27us/sample - loss: 0.3509 - accuracy: 0.8529\n",
      "Epoch 21/100\n",
      "8000/8000 [==============================] - 0s 27us/sample - loss: 0.3495 - accuracy: 0.8528\n",
      "Epoch 22/100\n",
      "8000/8000 [==============================] - 0s 27us/sample - loss: 0.3471 - accuracy: 0.8555\n",
      "Epoch 23/100\n",
      "8000/8000 [==============================] - 0s 27us/sample - loss: 0.3456 - accuracy: 0.8570\n",
      "Epoch 24/100\n",
      "8000/8000 [==============================] - 0s 27us/sample - loss: 0.3447 - accuracy: 0.8561\n",
      "Epoch 25/100\n",
      "8000/8000 [==============================] - 0s 27us/sample - loss: 0.3438 - accuracy: 0.8571\n",
      "Epoch 26/100\n",
      "8000/8000 [==============================] - 0s 27us/sample - loss: 0.3429 - accuracy: 0.8571\n",
      "Epoch 27/100\n",
      "8000/8000 [==============================] - 0s 27us/sample - loss: 0.3419 - accuracy: 0.8589\n",
      "Epoch 28/100\n",
      "8000/8000 [==============================] - 0s 27us/sample - loss: 0.3419 - accuracy: 0.8601\n",
      "Epoch 29/100\n",
      "8000/8000 [==============================] - 0s 28us/sample - loss: 0.3412 - accuracy: 0.8585\n",
      "Epoch 30/100\n",
      "8000/8000 [==============================] - 0s 27us/sample - loss: 0.3402 - accuracy: 0.8610\n",
      "Epoch 31/100\n",
      "8000/8000 [==============================] - 0s 27us/sample - loss: 0.3401 - accuracy: 0.8601\n",
      "Epoch 32/100\n",
      "8000/8000 [==============================] - 0s 27us/sample - loss: 0.3396 - accuracy: 0.8600\n",
      "Epoch 33/100\n",
      "8000/8000 [==============================] - 0s 27us/sample - loss: 0.3396 - accuracy: 0.8602\n",
      "Epoch 34/100\n",
      "8000/8000 [==============================] - 0s 27us/sample - loss: 0.3391 - accuracy: 0.8609\n",
      "Epoch 35/100\n",
      "8000/8000 [==============================] - 0s 27us/sample - loss: 0.3385 - accuracy: 0.8625\n",
      "Epoch 36/100\n",
      "8000/8000 [==============================] - 0s 27us/sample - loss: 0.3385 - accuracy: 0.8611\n",
      "Epoch 37/100\n",
      "8000/8000 [==============================] - 0s 27us/sample - loss: 0.3386 - accuracy: 0.8618\n",
      "Epoch 38/100\n",
      "8000/8000 [==============================] - 0s 27us/sample - loss: 0.3379 - accuracy: 0.8627\n",
      "Epoch 39/100\n",
      "8000/8000 [==============================] - 0s 27us/sample - loss: 0.3378 - accuracy: 0.8620\n",
      "Epoch 40/100\n",
      "8000/8000 [==============================] - 0s 27us/sample - loss: 0.3379 - accuracy: 0.8620\n",
      "Epoch 41/100\n",
      "8000/8000 [==============================] - 0s 27us/sample - loss: 0.3372 - accuracy: 0.8621\n",
      "Epoch 42/100\n",
      "8000/8000 [==============================] - 0s 27us/sample - loss: 0.3374 - accuracy: 0.8621\n",
      "Epoch 43/100\n",
      "8000/8000 [==============================] - 0s 27us/sample - loss: 0.3369 - accuracy: 0.8631\n",
      "Epoch 44/100\n",
      "8000/8000 [==============================] - 0s 27us/sample - loss: 0.3374 - accuracy: 0.8621\n",
      "Epoch 45/100\n",
      "8000/8000 [==============================] - 0s 27us/sample - loss: 0.3371 - accuracy: 0.8633\n",
      "Epoch 46/100\n",
      "8000/8000 [==============================] - 0s 27us/sample - loss: 0.3368 - accuracy: 0.8637\n",
      "Epoch 47/100\n",
      "8000/8000 [==============================] - 0s 27us/sample - loss: 0.3369 - accuracy: 0.8644\n",
      "Epoch 48/100\n",
      "8000/8000 [==============================] - 0s 28us/sample - loss: 0.3369 - accuracy: 0.8644\n",
      "Epoch 49/100\n",
      "8000/8000 [==============================] - 0s 28us/sample - loss: 0.3369 - accuracy: 0.8622\n",
      "Epoch 50/100\n",
      "8000/8000 [==============================] - 0s 28us/sample - loss: 0.3365 - accuracy: 0.8627\n",
      "Epoch 51/100\n",
      "8000/8000 [==============================] - 0s 28us/sample - loss: 0.3365 - accuracy: 0.8643\n",
      "Epoch 52/100\n",
      "8000/8000 [==============================] - 0s 28us/sample - loss: 0.3369 - accuracy: 0.8633\n",
      "Epoch 53/100\n",
      "8000/8000 [==============================] - 0s 28us/sample - loss: 0.3359 - accuracy: 0.8644\n",
      "Epoch 54/100\n",
      "8000/8000 [==============================] - 0s 28us/sample - loss: 0.3365 - accuracy: 0.8637\n",
      "Epoch 55/100\n",
      "8000/8000 [==============================] - 0s 28us/sample - loss: 0.3365 - accuracy: 0.8625\n",
      "Epoch 56/100\n",
      "8000/8000 [==============================] - 0s 28us/sample - loss: 0.3360 - accuracy: 0.8629\n",
      "Epoch 57/100\n",
      "8000/8000 [==============================] - 0s 28us/sample - loss: 0.3362 - accuracy: 0.8637\n",
      "Epoch 58/100\n",
      "8000/8000 [==============================] - 0s 28us/sample - loss: 0.3358 - accuracy: 0.8650\n",
      "Epoch 59/100\n",
      "8000/8000 [==============================] - 0s 28us/sample - loss: 0.3359 - accuracy: 0.8644\n",
      "Epoch 60/100\n",
      "8000/8000 [==============================] - 0s 28us/sample - loss: 0.3356 - accuracy: 0.8633\n",
      "Epoch 61/100\n",
      "8000/8000 [==============================] - 0s 28us/sample - loss: 0.3360 - accuracy: 0.8640\n",
      "Epoch 62/100\n",
      "8000/8000 [==============================] - 0s 28us/sample - loss: 0.3357 - accuracy: 0.8637\n",
      "Epoch 63/100\n",
      "8000/8000 [==============================] - 0s 28us/sample - loss: 0.3356 - accuracy: 0.8635\n",
      "Epoch 64/100\n",
      "8000/8000 [==============================] - 0s 28us/sample - loss: 0.3357 - accuracy: 0.8640\n",
      "Epoch 65/100\n",
      "8000/8000 [==============================] - 0s 28us/sample - loss: 0.3356 - accuracy: 0.8651\n",
      "Epoch 66/100\n",
      "8000/8000 [==============================] - 0s 28us/sample - loss: 0.3354 - accuracy: 0.8654\n",
      "Epoch 67/100\n",
      "8000/8000 [==============================] - 0s 28us/sample - loss: 0.3354 - accuracy: 0.8640\n",
      "Epoch 68/100\n",
      "8000/8000 [==============================] - 0s 28us/sample - loss: 0.3355 - accuracy: 0.8652\n",
      "Epoch 69/100\n",
      "8000/8000 [==============================] - 0s 28us/sample - loss: 0.3354 - accuracy: 0.8631\n",
      "Epoch 70/100\n",
      "8000/8000 [==============================] - 0s 28us/sample - loss: 0.3351 - accuracy: 0.8646\n",
      "Epoch 71/100\n",
      "8000/8000 [==============================] - 0s 28us/sample - loss: 0.3354 - accuracy: 0.8659\n",
      "Epoch 72/100\n",
      "8000/8000 [==============================] - 0s 28us/sample - loss: 0.3355 - accuracy: 0.8656\n",
      "Epoch 73/100\n",
      "8000/8000 [==============================] - 0s 28us/sample - loss: 0.3353 - accuracy: 0.8639\n",
      "Epoch 74/100\n",
      "8000/8000 [==============================] - 0s 28us/sample - loss: 0.3351 - accuracy: 0.8656\n",
      "Epoch 75/100\n",
      "8000/8000 [==============================] - 0s 28us/sample - loss: 0.3353 - accuracy: 0.8652\n",
      "Epoch 76/100\n",
      "8000/8000 [==============================] - 0s 28us/sample - loss: 0.3348 - accuracy: 0.8648\n",
      "Epoch 77/100\n"
     ]
    },
    {
     "name": "stdout",
     "output_type": "stream",
     "text": [
      "8000/8000 [==============================] - 0s 28us/sample - loss: 0.3349 - accuracy: 0.8631\n",
      "Epoch 78/100\n",
      "8000/8000 [==============================] - 0s 27us/sample - loss: 0.3348 - accuracy: 0.8637\n",
      "Epoch 79/100\n",
      "8000/8000 [==============================] - 0s 27us/sample - loss: 0.3350 - accuracy: 0.8641\n",
      "Epoch 80/100\n",
      "8000/8000 [==============================] - 0s 27us/sample - loss: 0.3348 - accuracy: 0.8655\n",
      "Epoch 81/100\n",
      "8000/8000 [==============================] - 0s 27us/sample - loss: 0.3351 - accuracy: 0.8650\n",
      "Epoch 82/100\n",
      "8000/8000 [==============================] - 0s 27us/sample - loss: 0.3350 - accuracy: 0.8640\n",
      "Epoch 83/100\n",
      "8000/8000 [==============================] - 0s 27us/sample - loss: 0.3347 - accuracy: 0.8658\n",
      "Epoch 84/100\n",
      "8000/8000 [==============================] - 0s 27us/sample - loss: 0.3352 - accuracy: 0.8651\n",
      "Epoch 85/100\n",
      "8000/8000 [==============================] - 0s 27us/sample - loss: 0.3350 - accuracy: 0.8646\n",
      "Epoch 86/100\n",
      "8000/8000 [==============================] - 0s 27us/sample - loss: 0.3345 - accuracy: 0.8643\n",
      "Epoch 87/100\n",
      "8000/8000 [==============================] - 0s 27us/sample - loss: 0.3345 - accuracy: 0.8651\n",
      "Epoch 88/100\n",
      "8000/8000 [==============================] - 0s 27us/sample - loss: 0.3347 - accuracy: 0.8641\n",
      "Epoch 89/100\n",
      "8000/8000 [==============================] - 0s 27us/sample - loss: 0.3346 - accuracy: 0.8648\n",
      "Epoch 90/100\n",
      "8000/8000 [==============================] - 0s 27us/sample - loss: 0.3347 - accuracy: 0.8639\n",
      "Epoch 91/100\n",
      "8000/8000 [==============================] - 0s 27us/sample - loss: 0.3346 - accuracy: 0.8655\n",
      "Epoch 92/100\n",
      "8000/8000 [==============================] - 0s 27us/sample - loss: 0.3343 - accuracy: 0.8656\n",
      "Epoch 93/100\n",
      "8000/8000 [==============================] - 0s 28us/sample - loss: 0.3342 - accuracy: 0.8646\n",
      "Epoch 94/100\n",
      "8000/8000 [==============================] - 0s 28us/sample - loss: 0.3343 - accuracy: 0.8648s - loss: 0.3347 - accuracy: 0.86\n",
      "Epoch 95/100\n",
      "8000/8000 [==============================] - 0s 28us/sample - loss: 0.3341 - accuracy: 0.8651\n",
      "Epoch 96/100\n",
      "8000/8000 [==============================] - 0s 28us/sample - loss: 0.3344 - accuracy: 0.8655\n",
      "Epoch 97/100\n",
      "8000/8000 [==============================] - 0s 28us/sample - loss: 0.3345 - accuracy: 0.8641\n",
      "Epoch 98/100\n",
      "8000/8000 [==============================] - 0s 30us/sample - loss: 0.3342 - accuracy: 0.8644\n",
      "Epoch 99/100\n",
      "8000/8000 [==============================] - 0s 29us/sample - loss: 0.3343 - accuracy: 0.8637\n",
      "Epoch 100/100\n",
      "8000/8000 [==============================] - 0s 29us/sample - loss: 0.3345 - accuracy: 0.8646\n"
     ]
    },
    {
     "data": {
      "text/plain": [
       "<tensorflow.python.keras.callbacks.History at 0x7fabbd6bc128>"
      ]
     },
     "execution_count": 17,
     "metadata": {},
     "output_type": "execute_result"
    }
   ],
   "source": [
    "ann.fit(x_train, y_train, batch_size = 32, epochs=100)"
   ]
  },
  {
   "cell_type": "markdown",
   "id": "2f939621",
   "metadata": {},
   "source": [
    "# Predicting a new result"
   ]
  },
  {
   "cell_type": "raw",
   "id": "af6341b8",
   "metadata": {},
   "source": [
    "Geography : France\n",
    "Credit Score : 600\n",
    "Gender : Male\n",
    "Age : 40 Years old\n",
    "Tenure : 3 years old\n",
    "Balance : 60000$\n",
    "Number of products : 2\n",
    "Does this customer have a bank account ? Yes\n",
    "Is this customer an active member ? Yes\n",
    "Estimated Salary : $ 50000\n",
    "So, should we say goodbye to this customer?  # As prob is 0.027 , so customer will stay in bank"
   ]
  },
  {
   "cell_type": "code",
   "execution_count": 18,
   "id": "d2e0be3c",
   "metadata": {},
   "outputs": [
    {
     "name": "stdout",
     "output_type": "stream",
     "text": [
      "[[0.02895839]]\n"
     ]
    }
   ],
   "source": [
    "print(ann.predict(sc.transform([[1,0,0,600,1, 40, 3, 60000, 2, 1, 1, 50000]])))"
   ]
  },
  {
   "cell_type": "markdown",
   "id": "d1d7dd14",
   "metadata": {},
   "source": [
    "# Predicting the test set results"
   ]
  },
  {
   "cell_type": "code",
   "execution_count": 19,
   "id": "4e7a264a",
   "metadata": {},
   "outputs": [
    {
     "name": "stdout",
     "output_type": "stream",
     "text": [
      "[[0 0]\n",
      " [0 1]\n",
      " [0 0]\n",
      " ...\n",
      " [0 0]\n",
      " [0 0]\n",
      " [0 0]]\n"
     ]
    }
   ],
   "source": [
    "y_pred = ann.predict(x_test)\n",
    "y_pred = (y_pred>0.5)\n",
    "print(np.concatenate((y_pred.reshape(len(y_pred), 1), y_test.reshape(len(y_test), 1)),1))"
   ]
  },
  {
   "cell_type": "markdown",
   "id": "5addfb64",
   "metadata": {},
   "source": [
    "# Making the Confusion Matrix"
   ]
  },
  {
   "cell_type": "code",
   "execution_count": 20,
   "id": "1ac99ce6",
   "metadata": {},
   "outputs": [
    {
     "name": "stdout",
     "output_type": "stream",
     "text": [
      "[[1529   66]\n",
      " [ 203  202]]\n"
     ]
    },
    {
     "data": {
      "text/plain": [
       "0.8655"
      ]
     },
     "execution_count": 20,
     "metadata": {},
     "output_type": "execute_result"
    }
   ],
   "source": [
    "from sklearn.metrics import accuracy_score, confusion_matrix\n",
    "cm = confusion_matrix(y_test, y_pred)\n",
    "print(cm)\n",
    "accuracy_score(y_test, y_pred)"
   ]
  },
  {
   "cell_type": "code",
   "execution_count": null,
   "id": "f3e5e9b5",
   "metadata": {},
   "outputs": [],
   "source": []
  }
 ],
 "metadata": {
  "kernelspec": {
   "display_name": "Python 3",
   "language": "python",
   "name": "python3"
  },
  "language_info": {
   "codemirror_mode": {
    "name": "ipython",
    "version": 3
   },
   "file_extension": ".py",
   "mimetype": "text/x-python",
   "name": "python",
   "nbconvert_exporter": "python",
   "pygments_lexer": "ipython3",
   "version": "3.6.13"
  }
 },
 "nbformat": 4,
 "nbformat_minor": 5
}
